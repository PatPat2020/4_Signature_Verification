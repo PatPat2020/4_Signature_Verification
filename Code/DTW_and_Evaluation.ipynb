{
 "cells": [
  {
   "cell_type": "markdown",
   "metadata": {},
   "source": [
    "# Signature verification : DTW Computation and Evaluation"
   ]
  },
  {
   "cell_type": "markdown",
   "metadata": {},
   "source": [
    "## Import Libraries"
   ]
  },
  {
   "cell_type": "code",
   "execution_count": 1,
   "metadata": {},
   "outputs": [],
   "source": [
    "%matplotlib inline\n",
    "import numpy as np\n",
    "import os\n",
    "import matplotlib.pyplot as plt\n",
    "import pickle\n",
    "from tslearn.metrics import dtw\n",
    "from itertools import combinations\n",
    "import operator\n",
    "from sklearn.metrics import auc"
   ]
  },
  {
   "cell_type": "markdown",
   "metadata": {},
   "source": [
    "## Import Normalized Signatures"
   ]
  },
  {
   "cell_type": "code",
   "execution_count": 2,
   "metadata": {
    "scrolled": true
   },
   "outputs": [
    {
     "name": "stdout",
     "output_type": "stream",
     "text": [
      "Dict of verification data loaded.\n",
      "Dict of enrollment data loaded.\n"
     ]
    }
   ],
   "source": [
    "normDataIsAvailable = None\n",
    "if os.path.isdir('../dataset'):\n",
    "    dataset_fold = os.path.join('..', 'dataset')\n",
    "    norm_enrollment_file = os.path.join(dataset_fold, 'norm_enrollment.pkl')\n",
    "    norm_verification_file = os.path.join(dataset_fold, 'norm_verification.pkl')\n",
    "    if (not os.path.isfile(norm_enrollment_file) or not os.path.isfile(norm_verification_file)):\n",
    "        print('Error : normalised data is not available')\n",
    "    else:\n",
    "        normDataIsAvailable = True\n",
    "else:\n",
    "    print('Error : dataset folder does not exist.')\n",
    "\n",
    "if normDataIsAvailable:\n",
    "    with open(norm_verification_file, 'rb') as f:\n",
    "        verification_dict = pickle.load(f)\n",
    "    print('Dict of verification data loaded.')\n",
    "    with open(norm_enrollment_file, 'rb') as f:\n",
    "        enrollment_dict = pickle.load(f)\n",
    "    print('Dict of enrollment data loaded.')"
   ]
  },
  {
   "cell_type": "markdown",
   "metadata": {},
   "source": [
    "## Import ground-truth"
   ]
  },
  {
   "cell_type": "code",
   "execution_count": 3,
   "metadata": {},
   "outputs": [
    {
     "name": "stdout",
     "output_type": "stream",
     "text": [
      "Ground-truth imported.\n"
     ]
    }
   ],
   "source": [
    "groundTruth = {}\n",
    "if not os.path.isfile('./../groundtruth/gt.txt'):\n",
    "    print(\"Error : gt.txt file not found in folder groundtruth.\")\n",
    "else:\n",
    "    with open(\"./../groundtruth/gt.txt\", \"r\") as f:\n",
    "        lines = f.readlines()\n",
    "        for l in lines:\n",
    "            token = l.replace(\"\\n\", \"\").split(\" \")\n",
    "            groundTruth[token[0]] = token[1]\n",
    "    print(\"Ground-truth imported.\")"
   ]
  },
  {
   "cell_type": "markdown",
   "metadata": {},
   "source": [
    "## Compute mean distance over genuine signatures for each user"
   ]
  },
  {
   "cell_type": "code",
   "execution_count": 4,
   "metadata": {},
   "outputs": [],
   "source": [
    "def compute_dtw(signature_a, signature_b):\n",
    "    dist = dtw(signature_a, signature_b, global_constraint=\"sakoe_chiba\", sakoe_chiba_radius=3)\n",
    "    return dist\n",
    "\n",
    "def genuineDist(g_signatures):\n",
    "    users_genuine_dist = {}\n",
    "    for user in g_signatures.keys():\n",
    "        print(f\">Mean distance computation for user {user} in progress\")\n",
    "        all_distances = [compute_dtw(signature_a, signature_b) \n",
    "                         for signature_a, signature_b in combinations(g_signatures[user], 2)]\n",
    "        users_genuine_dist[user] = np.mean(all_distances)\n",
    "    return users_genuine_dist"
   ]
  },
  {
   "cell_type": "code",
   "execution_count": 5,
   "metadata": {},
   "outputs": [
    {
     "name": "stdout",
     "output_type": "stream",
     "text": [
      ">Mean distance computation for user 001 in progress\n",
      ">Mean distance computation for user 002 in progress\n",
      ">Mean distance computation for user 003 in progress\n",
      ">Mean distance computation for user 004 in progress\n",
      ">Mean distance computation for user 005 in progress\n",
      ">Mean distance computation for user 006 in progress\n",
      ">Mean distance computation for user 007 in progress\n",
      ">Mean distance computation for user 008 in progress\n",
      ">Mean distance computation for user 009 in progress\n",
      ">Mean distance computation for user 010 in progress\n",
      ">Mean distance computation for user 011 in progress\n",
      ">Mean distance computation for user 012 in progress\n",
      ">Mean distance computation for user 013 in progress\n",
      ">Mean distance computation for user 014 in progress\n",
      ">Mean distance computation for user 015 in progress\n",
      ">Mean distance computation for user 016 in progress\n",
      ">Mean distance computation for user 017 in progress\n",
      ">Mean distance computation for user 018 in progress\n",
      ">Mean distance computation for user 019 in progress\n",
      ">Mean distance computation for user 020 in progress\n",
      ">Mean distance computation for user 021 in progress\n",
      ">Mean distance computation for user 022 in progress\n",
      ">Mean distance computation for user 023 in progress\n",
      ">Mean distance computation for user 024 in progress\n",
      ">Mean distance computation for user 025 in progress\n",
      ">Mean distance computation for user 026 in progress\n",
      ">Mean distance computation for user 027 in progress\n",
      ">Mean distance computation for user 028 in progress\n",
      ">Mean distance computation for user 029 in progress\n",
      ">Mean distance computation for user 030 in progress\n",
      "Mean distance computation of genuine signatures for each user done.\n"
     ]
    }
   ],
   "source": [
    "users_genuine_dist = genuineDist(enrollment_dict)\n",
    "print(\"Mean distance computation of genuine signatures for each user done.\")"
   ]
  },
  {
   "cell_type": "markdown",
   "metadata": {},
   "source": [
    "## Compute dissimilarity for each verification signature with the 5 genuine ones"
   ]
  },
  {
   "cell_type": "code",
   "execution_count": 6,
   "metadata": {},
   "outputs": [],
   "source": [
    "def verifDist(genuine_signatures, verification_signatures):\n",
    "    users_verif_dist = {}\n",
    "    for user in verification_signatures.keys():\n",
    "        dict_signature_dist = {}\n",
    "        print(f\">Distance computation for user {user} in progress\")\n",
    "        for v_signature in verification_signatures[user]:\n",
    "            print(f\">Compare signature {v_signature[0]} with the 5 genuine signatures\")\n",
    "            computed_dists = []\n",
    "            for g_signature in genuine_signatures[user]:\n",
    "                computed_dists.append(compute_dtw(g_signature, v_signature[1]))\n",
    "            dict_signature_dist[v_signature[0]] = np.mean(computed_dists)\n",
    "        users_verif_dist[user] = dict_signature_dist\n",
    "    print(\"All distances computed.\")\n",
    "    return users_verif_dist"
   ]
  },
  {
   "cell_type": "code",
   "execution_count": 7,
   "metadata": {
    "scrolled": true
   },
   "outputs": [
    {
     "name": "stdout",
     "output_type": "stream",
     "text": [
      "Dissimilarity for each verification signature already computed.\n"
     ]
    }
   ],
   "source": [
    "if not os.path.isdir('../results'):\n",
    "    os.mkdir('../results')\n",
    "results_fold = os.path.join('..', 'results')\n",
    "dist_file = os.path.join(results_fold, 'dist_results.pkl')\n",
    "if os.path.isfile(dist_file):\n",
    "    print(\"Dissimilarity for each verification signature already computed.\")\n",
    "    with open(dist_file, 'rb') as f:\n",
    "        users_verif_dist = pickle.load(f)  \n",
    "else:\n",
    "    users_verif_dist = verifDist(enrollment_dict, verification_dict)\n",
    "    with open('./../results/dist_results.pkl', 'wb') as f:\n",
    "        pickle.dump(users_verif_dist, f, pickle.HIGHEST_PROTOCOL)"
   ]
  },
  {
   "cell_type": "markdown",
   "metadata": {},
   "source": [
    "## Find the optimal threshold to choose if a signature is genuine or fake"
   ]
  },
  {
   "cell_type": "code",
   "execution_count": 8,
   "metadata": {},
   "outputs": [],
   "source": [
    "def predict_for_threshold(users_genuine_dist, users_verif_dist):\n",
    "    thresholds = np.arange(0, 25, 0.1)\n",
    "    predictions = {}\n",
    "    for threshold in thresholds:\n",
    "        predictions[threshold]={}\n",
    "        for user in users_verif_dist.keys():\n",
    "            for signature in users_verif_dist[user]:\n",
    "                dist = users_verif_dist[user][signature]\n",
    "                genuine_dist = users_genuine_dist[user]\n",
    "                if abs(dist-genuine_dist)<=threshold:\n",
    "                    predictions[threshold][user+\"-\"+signature]='g'\n",
    "                else:\n",
    "                    predictions[threshold][user+\"-\"+signature]='f'\n",
    "    return predictions"
   ]
  },
  {
   "cell_type": "code",
   "execution_count": 9,
   "metadata": {},
   "outputs": [],
   "source": [
    "def evaluate_accuracy_threshold(predictions):\n",
    "    accuracy = {}\n",
    "    for threshold in predictions.keys():\n",
    "        correct = 0\n",
    "        wrong = 0\n",
    "        for signature in predictions[threshold].keys():\n",
    "            if groundTruth[signature]==predictions[threshold][signature]:\n",
    "                correct+=1\n",
    "            else:\n",
    "                wrong+=1\n",
    "        accuracy[threshold]= correct/(correct+wrong)\n",
    "    return accuracy"
   ]
  },
  {
   "cell_type": "code",
   "execution_count": 10,
   "metadata": {},
   "outputs": [],
   "source": [
    "def plot_acc(accuracy):\n",
    "    lists = sorted(accuracy.items()) \n",
    "    x, y = zip(*lists)\n",
    "    plt.plot(x, y)\n",
    "    plt.title(\"Accuracy of the signature verification \")\n",
    "    plt.xlabel(\"Threshold\")\n",
    "    plt.yscale('linear')\n",
    "    plt.ylabel(\"Accuracy\")\n",
    "    plt.show()"
   ]
  },
  {
   "cell_type": "code",
   "execution_count": 11,
   "metadata": {},
   "outputs": [],
   "source": [
    "# find the key of the max value in a dictionary\n",
    "def keywithmaxval(d): \n",
    "     v=list(d.values())\n",
    "     k=list(d.keys())\n",
    "     return k[v.index(max(v))]"
   ]
  },
  {
   "cell_type": "code",
   "execution_count": 12,
   "metadata": {},
   "outputs": [
    {
     "name": "stdout",
     "output_type": "stream",
     "text": [
      "Predictions created.\n"
     ]
    }
   ],
   "source": [
    "predictions = predict_for_threshold(users_genuine_dist, users_verif_dist)\n",
    "print(\"Predictions created.\")"
   ]
  },
  {
   "cell_type": "code",
   "execution_count": 13,
   "metadata": {},
   "outputs": [
    {
     "name": "stdout",
     "output_type": "stream",
     "text": [
      "Dictionary of accuracy for each threshold created.\n"
     ]
    }
   ],
   "source": [
    "dict_accuracy = evaluate_accuracy_threshold(predictions)\n",
    "print(\"Dictionary of accuracy for each threshold created.\")"
   ]
  },
  {
   "cell_type": "code",
   "execution_count": 14,
   "metadata": {},
   "outputs": [
    {
     "data": {
      "image/png": "[encoded data removed]",
      "text/plain": [
       "<Figure size 432x288 with 1 Axes>"
      ]
     },
     "metadata": {
      "needs_background": "light"
     },
     "output_type": "display_data"
    }
   ],
   "source": [
    "plot_acc(dict_accuracy)"
   ]
  },
  {
   "cell_type": "code",
   "execution_count": 15,
   "metadata": {},
   "outputs": [
    {
     "data": {
      "text/plain": [
       "1.7000000000000002"
      ]
     },
     "execution_count": 15,
     "metadata": {},
     "output_type": "execute_result"
    }
   ],
   "source": [
    "keywithmaxval(dict_accuracy)"
   ]
  },
  {
   "cell_type": "markdown",
   "metadata": {},
   "source": [
    "The optimal theshold is 1.7"
   ]
  },
  {
   "cell_type": "markdown",
   "metadata": {},
   "source": [
    "## Compute the predictions with optimal threshold"
   ]
  },
  {
   "cell_type": "code",
   "execution_count": 16,
   "metadata": {},
   "outputs": [],
   "source": [
    "def predict(users_genuine_dist, users_verif_dist):\n",
    "    threshold = 1.7\n",
    "    predictions = {}\n",
    "    for user in users_verif_dist.keys():\n",
    "        for signature in users_verif_dist[user]:\n",
    "            dist = users_verif_dist[user][signature]\n",
    "            genuine_dist = users_genuine_dist[user]\n",
    "            if abs(dist-genuine_dist)<=threshold:\n",
    "                predictions[user+\"-\"+signature]='g'\n",
    "            else:\n",
    "                predictions[user+\"-\"+signature]='f'\n",
    "    return predictions"
   ]
  },
  {
   "cell_type": "code",
   "execution_count": 17,
   "metadata": {},
   "outputs": [],
   "source": [
    "def evaluate_accuracy(predictions):\n",
    "    accuracy = {}\n",
    "    correct = 0\n",
    "    wrong = 0\n",
    "    for signature in predictions.keys():\n",
    "        if groundTruth[signature]==predictions[signature]:\n",
    "            correct+=1\n",
    "        else:\n",
    "            wrong+=1\n",
    "    accuracy = correct/(correct+wrong)\n",
    "    return accuracy"
   ]
  },
  {
   "cell_type": "code",
   "execution_count": 18,
   "metadata": {},
   "outputs": [],
   "source": [
    "predictions = predict(users_genuine_dist, users_verif_dist)"
   ]
  },
  {
   "cell_type": "code",
   "execution_count": 19,
   "metadata": {},
   "outputs": [
    {
     "name": "stdout",
     "output_type": "stream",
     "text": [
      "Accuracy = 88.59 %\n"
     ]
    }
   ],
   "source": [
    "accuracy = evaluate_accuracy(predictions)*100\n",
    "print(f\"Accuracy = {accuracy:.2f} %\")"
   ]
  },
  {
   "cell_type": "markdown",
   "metadata": {},
   "source": [
    "## Evaluate precision, recall and AP"
   ]
  },
  {
   "cell_type": "code",
   "execution_count": 20,
   "metadata": {},
   "outputs": [],
   "source": [
    "def sort_dict(dictionary):\n",
    "    result = {k: v for k, v in sorted(dictionary.items(), key=lambda item: item[1])}\n",
    "    return result"
   ]
  },
  {
   "cell_type": "code",
   "execution_count": 21,
   "metadata": {},
   "outputs": [],
   "source": [
    "#Create a dictionary with every distance computed which has the same format as predictions\n",
    "unsorted_distances = {}\n",
    "for user in users_verif_dist.keys():\n",
    "    for signature in users_verif_dist[user]:\n",
    "        unsorted_distances[user+'-'+signature] = users_verif_dist[user][signature]\n",
    "#Sort the dictionary\n",
    "sorted_distances = sort_dict(unsorted_distances)"
   ]
  },
  {
   "cell_type": "code",
   "execution_count": 22,
   "metadata": {},
   "outputs": [
    {
     "data": {
      "image/png": "[encoded data removed]",
      "text/plain": [
       "<Figure size 432x288 with 1 Axes>"
      ]
     },
     "metadata": {
      "needs_background": "light"
     },
     "output_type": "display_data"
    },
    {
     "name": "stdout",
     "output_type": "stream",
     "text": [
      "Logistic: AP=0.917\n"
     ]
    }
   ],
   "source": [
    "# Compute precision, recall and AP\n",
    "lr_precision = []\n",
    "lr_recall = []\n",
    "for index_threshold in range(0, len(sorted_distances)-1):\n",
    "    tp = 0\n",
    "    fp = 0\n",
    "    tn = 0\n",
    "    fn = 0\n",
    "    for index, signature in enumerate(sorted_distances):\n",
    "        if(index <= index_threshold):\n",
    "            if predictions[signature] == 'g':\n",
    "                tp = tp + 1\n",
    "            else:\n",
    "                fp = fp + 1\n",
    "        else:\n",
    "            if predictions[signature] == 'g':\n",
    "                fn = fn + 1\n",
    "            else:\n",
    "                tn = tn + 1\n",
    "    if (tp+fp) == 0:\n",
    "        precision = 1\n",
    "    else:\n",
    "        precision = tp / (tp + fp)\n",
    "    if (tp+fn) == 0:\n",
    "        recall = 0\n",
    "    else:\n",
    "        recall = tp / (tp + fn)\n",
    "    lr_precision.append(precision)\n",
    "    lr_recall.append(recall)\n",
    "lr_auc = auc(lr_recall, lr_precision)\n",
    "plt.plot(lr_recall, lr_precision, marker='.', label='Logistic')\n",
    "# axis labels\n",
    "plt.xlabel('Recall')\n",
    "plt.ylabel('Precision')\n",
    "# show the legend\n",
    "plt.legend()\n",
    "# show the plot\n",
    "plt.show()\n",
    "print('Logistic: AP=%.3f' % lr_auc)"
   ]
  }
 ],
 "metadata": {
  "kernelspec": {
   "display_name": "Python 3",
   "language": "python",
   "name": "python3"
  },
  "language_info": {
   "codemirror_mode": {
    "name": "ipython",
    "version": 3
   },
   "file_extension": ".py",
   "mimetype": "text/x-python",
   "name": "python",
   "nbconvert_exporter": "python",
   "pygments_lexer": "ipython3",
   "version": "3.7.4"
  }
 },
 "nbformat": 4,
 "nbformat_minor": 2
}
